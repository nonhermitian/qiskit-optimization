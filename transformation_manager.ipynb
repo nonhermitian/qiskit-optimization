{
 "cells": [
  {
   "cell_type": "code",
   "execution_count": 1,
   "id": "67a5a8b8-337f-4df7-b9c7-716c3ff36529",
   "metadata": {},
   "outputs": [],
   "source": [
    "import numpy as np\n",
    "from qiskit_optimization import QuadraticProgram\n",
    "from qiskit.quantum_info import SparsePauliOp\n",
    "from qiskit_optimization.converters import (InequalityToEquality, IntegerToBinary, \n",
    "                                            LinearEqualityToPenalty, LinearInequalityToPenalty)\n",
    "from docplex.mp.model import Model\n",
    "\n",
    "# SciPy minimizer routine\n",
    "from scipy.optimize import minimize"
   ]
  },
  {
   "cell_type": "code",
   "execution_count": 2,
   "id": "08d414af-099d-4ad4-bdf7-fb9dd85619b3",
   "metadata": {},
   "outputs": [],
   "source": [
    "class QuadraticProgram2Ising:\n",
    "    \"\"\"A mapping of `QuadraticProgram` to a Ising Hamiltonian\n",
    "    in `SparsePauliOp` format\n",
    "    \"\"\"\n",
    "    def __init__(self):\n",
    "        self.input_type = QuadraticProgram\n",
    "        self.output_type = SparsePauliOp\n",
    "\n",
    "    def run(self, program):\n",
    "        if not isinstance(program, self.input_type):\n",
    "            raise TypeError(f\"Program is invalid input type, must be {self.input_type}\")\n",
    "        ising, constant = program.to_ising(opflow=False)\n",
    "        return ising + SparsePauliOp.from_list([(\"I\"*ising.num_qubits, constant)])"
   ]
  },
  {
   "cell_type": "code",
   "execution_count": 3,
   "id": "6ae2f316-d81a-4b2e-abda-8bef5889e503",
   "metadata": {},
   "outputs": [],
   "source": [
    "import copy\n",
    "\n",
    "class CompositeWorkflow:\n",
    "    def __init__(self, passes):\n",
    "        self.passes = passes\n",
    "    \n",
    "    def run(self, input):\n",
    "        temp = copy.deepcopy(input)\n",
    "        for individual_pass in self.passes:\n",
    "            temp = individual_pass.run(temp)\n",
    "        return temp"
   ]
  },
  {
   "cell_type": "code",
   "execution_count": 4,
   "id": "60e03730-2f3a-48fe-bc50-9d079c11603c",
   "metadata": {},
   "outputs": [],
   "source": [
    "mdl = Model(\"docplex model\")\n",
    "x = mdl.binary_var(\"x\")\n",
    "y = mdl.binary_var(\"y\")\n",
    "z = mdl.binary_var(\"z\")\n",
    "mdl.minimize(x - 2*y + 3*z + x*y + x*z + 2*y*z)\n",
    "#print(mdl.export_as_lp_string())"
   ]
  },
  {
   "cell_type": "code",
   "execution_count": 5,
   "id": "49a33b1f-8262-4171-b71e-f628e8b9c884",
   "metadata": {},
   "outputs": [],
   "source": [
    "qp = QuadraticProgram.from_docplex_mp(mdl)"
   ]
  },
  {
   "cell_type": "code",
   "execution_count": 6,
   "id": "a41da3bb-bff8-4c8a-90d8-8011e817d4a2",
   "metadata": {},
   "outputs": [],
   "source": [
    "cw = CompositeWorkflow([InequalityToEquality(), # Transformation\n",
    "                        IntegerToBinary(), # Transformation\n",
    "                        LinearEqualityToPenalty(), # Transformation\n",
    "                        LinearInequalityToPenalty(), # Transformation\n",
    "                        QuadraticProgram2Ising() # Conversion\n",
    "                        ])"
   ]
  },
  {
   "cell_type": "code",
   "execution_count": 7,
   "id": "d87b1e0d-829f-441e-aeb3-970c43cff521",
   "metadata": {},
   "outputs": [],
   "source": [
    "ising = cw.run(qp)"
   ]
  },
  {
   "cell_type": "code",
   "execution_count": 8,
   "id": "144629f3-746d-4c6f-bc96-3ea9d0db0015",
   "metadata": {},
   "outputs": [
    {
     "data": {
      "text/plain": [
       "SparsePauliOp(['IIZ', 'IZI', 'ZII', 'IZZ', 'ZIZ', 'ZZI', 'III'],\n",
       "              coeffs=[-1.  +0.j,  0.25+0.j, -2.25+0.j,  0.25+0.j,  0.25+0.j,  0.5 +0.j,\n",
       "  2.  +0.j])"
      ]
     },
     "execution_count": 8,
     "metadata": {},
     "output_type": "execute_result"
    }
   ],
   "source": [
    "ising"
   ]
  },
  {
   "cell_type": "code",
   "execution_count": 9,
   "id": "2e15b136-a721-4e64-be0b-452088b56519",
   "metadata": {},
   "outputs": [],
   "source": [
    "from qiskit.circuit.library import QAOAAnsatz"
   ]
  },
  {
   "cell_type": "code",
   "execution_count": 10,
   "id": "4dce8043-fde6-4c56-8803-1ff320ff0c3b",
   "metadata": {},
   "outputs": [],
   "source": [
    "from qiskit_ibm_runtime import QiskitRuntimeService\n",
    "from qiskit_ibm_runtime import Estimator, Sampler, Session"
   ]
  },
  {
   "cell_type": "code",
   "execution_count": 11,
   "id": "4ecdb64d-b886-4ab1-a2ec-d36c21e17115",
   "metadata": {},
   "outputs": [],
   "source": [
    "service = QiskitRuntimeService()"
   ]
  },
  {
   "cell_type": "code",
   "execution_count": 12,
   "id": "6704e4a9-dda1-473b-abf3-9624f3d72d77",
   "metadata": {},
   "outputs": [],
   "source": [
    "backend = service.get_backend('ibmq_qasm_simulator')"
   ]
  },
  {
   "cell_type": "code",
   "execution_count": 13,
   "id": "7cbea35a-7deb-4b5d-8945-0a812aa34787",
   "metadata": {},
   "outputs": [],
   "source": [
    "ansatz = QAOAAnsatz(ising, reps=2)"
   ]
  },
  {
   "cell_type": "code",
   "execution_count": 14,
   "id": "26566d12-761b-4714-b9c9-dbacd7ddc89c",
   "metadata": {},
   "outputs": [],
   "source": [
    "def cost_func(params, ansatz, hamiltonian, estimator):\n",
    "    \"\"\"Return estimate of energy from estimator\n",
    "\n",
    "    Parameters:\n",
    "        params (ndarray): Array of ansatz parameters\n",
    "        ansatz (QuantumCircuit): Parameterized ansatz circuit\n",
    "        hamiltonian (SparsePauliOp): Operator representation of Hamiltonian\n",
    "        estimator (Estimator): Estimator primitive instance\n",
    "\n",
    "    Returns:\n",
    "        float: Energy estimate\n",
    "    \"\"\"\n",
    "    cost = estimator.run(ansatz, hamiltonian, parameter_values=params).result().values[0]\n",
    "    return cost\n"
   ]
  },
  {
   "cell_type": "code",
   "execution_count": 15,
   "id": "255a9649-1917-4def-b415-2139d860e1cc",
   "metadata": {},
   "outputs": [],
   "source": [
    "session = Session(backend=backend)\n",
    "\n",
    "estimator = Estimator(session=session, options={\"shots\": int(1e4)})\n",
    "sampler = Sampler(session=session, options={\"shots\": int(1e4)})\n"
   ]
  },
  {
   "cell_type": "code",
   "execution_count": 16,
   "id": "a3737419-9c9e-420c-912b-1d9bbbaa8e46",
   "metadata": {},
   "outputs": [],
   "source": [
    "x0 = 2 * np.pi * np.random.rand(ansatz.num_parameters)"
   ]
  },
  {
   "cell_type": "code",
   "execution_count": null,
   "id": "6817d337-818a-49fb-bd17-6bf4112d5b80",
   "metadata": {},
   "outputs": [],
   "source": [
    "res = minimize(cost_func, x0, args=(ansatz, ising, estimator), method=\"COBYLA\")"
   ]
  },
  {
   "cell_type": "code",
   "execution_count": null,
   "id": "7d051613-3674-4353-82ae-9869d8bbd548",
   "metadata": {},
   "outputs": [],
   "source": [
    "res"
   ]
  },
  {
   "cell_type": "code",
   "execution_count": null,
   "id": "4f3cce37-3ecb-4a50-8617-ae1c6842fc98",
   "metadata": {},
   "outputs": [],
   "source": [
    "# Assign solution parameters to ansatz\n",
    "qc = ansatz.assign_parameters(res.x)\n",
    "# Add measurements to our circuit\n",
    "qc.measure_all()\n"
   ]
  },
  {
   "cell_type": "code",
   "execution_count": null,
   "id": "1f240802-d391-4254-84e5-e5808fa44227",
   "metadata": {},
   "outputs": [],
   "source": [
    "# Sample ansatz at optimal parameters\n",
    "samp_dist = sampler.run(qc, shots=int(1e4)).result().quasi_dists[0]\n",
    "# Close the session since we are now done with it\n",
    "session.close()"
   ]
  },
  {
   "cell_type": "code",
   "execution_count": null,
   "id": "8f66661b-5d2c-44df-bd57-91fab71fff5a",
   "metadata": {},
   "outputs": [],
   "source": [
    "samp_dist"
   ]
  },
  {
   "cell_type": "code",
   "execution_count": null,
   "id": "aed58f2e-0761-441f-aeea-793adeabc63a",
   "metadata": {},
   "outputs": [],
   "source": [
    "probs = samp_dist.binary_probabilities()\n",
    "probs"
   ]
  },
  {
   "cell_type": "code",
   "execution_count": 356,
   "id": "dda90ad4-43f2-49e9-ba3e-fb5df7a95e48",
   "metadata": {},
   "outputs": [],
   "source": [
    "def evaluate_quadratic_program(bitstring, program):\n",
    "    constant = program.objective.constant\n",
    "    linear_elements = program.objective.linear.to_dict()\n",
    "    quadratic_elements = program.objective._quadratic.to_dict()\n",
    "\n",
    "    x = np.fromiter(list(bitstring[::-1]), dtype=int)\n",
    "    \n",
    "    sum = constant\n",
    "    for element, val in linear_elements.items():\n",
    "        sum += x[element] * val\n",
    "    for element, val in quadratic_elements.items():\n",
    "        sum += x[element[0]] * val * x[element[1]]\n",
    "    return sum"
   ]
  },
  {
   "cell_type": "code",
   "execution_count": 357,
   "id": "19e6dc53-314c-40a1-9f33-6132e4a4983a",
   "metadata": {},
   "outputs": [
    {
     "data": {
      "text/plain": [
       "[5.0, 1.0, -2.0, 3.0, 3.0, 0.0, 0.0, 6.0]"
      ]
     },
     "execution_count": 357,
     "metadata": {},
     "output_type": "execute_result"
    }
   ],
   "source": [
    "results = []\n",
    "for bitstring in probs:\n",
    "    results.append(evaluate_quadratic_program(bitstring, qubo))\n",
    "    \n",
    "results"
   ]
  },
  {
   "cell_type": "code",
   "execution_count": 358,
   "id": "9f4251e8-3782-47af-ba98-d31744243f65",
   "metadata": {},
   "outputs": [
    {
     "data": {
      "text/plain": [
       "[<Variable: x (binary)>, <Variable: y (binary)>, <Variable: z (binary)>]"
      ]
     },
     "execution_count": 358,
     "metadata": {},
     "output_type": "execute_result"
    }
   ],
   "source": [
    "qubo.variables"
   ]
  },
  {
   "cell_type": "code",
   "execution_count": null,
   "id": "b8079644-c852-4987-a1fe-fb1e3be425c5",
   "metadata": {},
   "outputs": [],
   "source": []
  }
 ],
 "metadata": {
  "kernelspec": {
   "display_name": "Python 3 (ipykernel)",
   "language": "python",
   "name": "python3"
  },
  "language_info": {
   "codemirror_mode": {
    "name": "ipython",
    "version": 3
   },
   "file_extension": ".py",
   "mimetype": "text/x-python",
   "name": "python",
   "nbconvert_exporter": "python",
   "pygments_lexer": "ipython3",
   "version": "3.10.12"
  }
 },
 "nbformat": 4,
 "nbformat_minor": 5
}
