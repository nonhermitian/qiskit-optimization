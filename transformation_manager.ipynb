{
 "cells": [
  {
   "cell_type": "code",
   "execution_count": 1,
   "id": "67a5a8b8-337f-4df7-b9c7-716c3ff36529",
   "metadata": {},
   "outputs": [],
   "source": [
    "import numpy as np\n",
    "from qiskit import *\n",
    "from qiskit_optimization import QuadraticProgram\n",
    "from qiskit.quantum_info import SparsePauliOp\n",
    "from qiskit_optimization.converters import (InequalityToEquality, IntegerToBinary, \n",
    "                                            LinearEqualityToPenalty, LinearInequalityToPenalty,\n",
    "                                            MaximizeToMinimize, QuadraticProgram2Ising)\n",
    "# SPSA\n",
    "from qiskit_optimization.spsa import minimize_spsa\n",
    "\n",
    "from docplex.mp.model import Model\n",
    "\n",
    "# SciPy minimizer routine\n",
    "from scipy.optimize import minimize\n",
    "\n",
    "from qiskit_ibm_runtime import QiskitRuntimeService\n",
    "from qiskit_ibm_runtime import Estimator, Sampler, Session\n",
    "from qiskit.result import QuasiDistribution\n",
    "from qiskit.circuit.library import QAOAAnsatz"
   ]
  },
  {
   "cell_type": "code",
   "execution_count": 2,
   "id": "4ecdb64d-b886-4ab1-a2ec-d36c21e17115",
   "metadata": {},
   "outputs": [],
   "source": [
    "service = QiskitRuntimeService()"
   ]
  },
  {
   "cell_type": "code",
   "execution_count": 4,
   "id": "cbe54067-bad2-4736-8ee0-eb7e9598b182",
   "metadata": {},
   "outputs": [],
   "source": [
    "class QAOASolver:\n",
    "    def __init__(self, session, qaoa_reps=2):\n",
    "        self.input_types = (SparsePauliOp, )\n",
    "        self.output_types = (QuasiDistribution, )\n",
    "        self.session = session\n",
    "        self.qaoa_reps = 2\n",
    "\n",
    "    def run(self, hamiltonian):\n",
    "        ansatz = QAOAAnsatz(hamiltonian, reps=2)\n",
    "        estimator = Estimator(session=session, options={\"shots\": int(1e4)})\n",
    "        sampler = Sampler(session=session, options={\"shots\": int(1e4)})\n",
    "\n",
    "        def cost_func(params, ansatz, hamiltonian, estimator):\n",
    "            \"\"\"Return estimate of energy from estimator\n",
    "        \n",
    "            Parameters:\n",
    "                params (ndarray): Array of ansatz parameters\n",
    "                ansatz (QuantumCircuit): Parameterized ansatz circuit\n",
    "                hamiltonian (SparsePauliOp): Operator representation of Hamiltonian\n",
    "                estimator (Estimator): Estimator primitive instance\n",
    "        \n",
    "            Returns:\n",
    "                float: Energy estimate\n",
    "            \"\"\"\n",
    "            cost = estimator.run(ansatz, hamiltonian, parameter_values=params).result().values[0]\n",
    "            return cost\n",
    "\n",
    "        x0 = 2 * np.pi * np.random.rand(ansatz.num_parameters)\n",
    "        res = minimize(cost_func, x0, args=(ansatz, hamiltonian, estimator), method=\"COBYLA\")\n",
    "        # Assign solution parameters to ansatz\n",
    "        qc = ansatz.assign_parameters(res.x)\n",
    "        # Add measurements to our circuit\n",
    "        qc.measure_all()\n",
    "        # Sample ansatz at optimal parameters\n",
    "        samp_dist = sampler.run(qc, shots=int(1e4)).result().quasi_dists[0]\n",
    "        # Close the session since we are now done with it\n",
    "        session.close()\n",
    "        return samp_dist"
   ]
  },
  {
   "cell_type": "code",
   "execution_count": 3,
   "id": "6ae2f316-d81a-4b2e-abda-8bef5889e503",
   "metadata": {},
   "outputs": [],
   "source": [
    "import copy\n",
    "import warnings\n",
    "\n",
    "class PropertySet(dict):\n",
    "    \"\"\"A default dictionary-like object\"\"\"\n",
    "    def __missing__(self, key):\n",
    "        return None\n",
    "\n",
    "class CompositeWorkflow:\n",
    "    def __init__(self, passes, name=None, store_final_output=False, strict_validation=True):\n",
    "        self.passes = passes\n",
    "        self.stages = {}\n",
    "        self.name = name\n",
    "        self.store_final_output = store_final_output\n",
    "        self.input_types = None\n",
    "        self.output_types = None\n",
    "        self.strict_validation = strict_validation\n",
    "        self._validate_passes()\n",
    "        self.property_set = PropertySet()\n",
    "\n",
    "    def _validate_passes(self):\n",
    "        self.input_types = self.passes[0].input_types\n",
    "        input_types = self.passes[0].input_types\n",
    "        for idx, individual_pass in enumerate(self.passes):\n",
    "            # If the pass is itself a CompositeWorkflow then run its validation\n",
    "            if isinstance(individual_pass, CompositeWorkflow):\n",
    "                if individual_pass.name in self.stages:\n",
    "                    raise Exception(f'Duplicate stage name {individual_pass.name}')\n",
    "                self.stages[individual_pass.name] = individual_pass\n",
    "                individual_pass._validate_passes()\n",
    "                continue\n",
    "            temp_input_types = individual_pass.input_types\n",
    "            # Look to see if there is overlap between last passes outputs\n",
    "            # and this passes inputs\n",
    "            input_overlap = set(input_types).intersection(set(temp_input_types))\n",
    "            # If no overlap, bad news\n",
    "            if not input_overlap:\n",
    "                raise Exception(f\"{temp_input_types} not compatible with {input_types}\")\n",
    "            # If partial overlap, then can only weakly validate the workflow, raise\n",
    "            # unless explicitly disabled\n",
    "            if len(input_overlap) != len(temp_input_types) and self.strict_validation:\n",
    "                diffs = set(input_types).difference(set(temp_input_types))\n",
    "                raise Exception(f\"Possible inputs {diffs} not valid for this pass\")\n",
    "            input_types = individual_pass.output_types\n",
    "        self.output_types = individual_pass.output_types\n",
    "    \n",
    "    def run(self, input):\n",
    "        temp = copy.deepcopy(input)\n",
    "        working_props = self.property_set\n",
    "        for individual_pass in self.passes:\n",
    "            individual_pass.property_set = working_props\n",
    "            temp = individual_pass.run(temp)\n",
    "            if isinstance(individual_pass, CompositeWorkflow):\n",
    "                if individual_pass.store_final_output:\n",
    "                    working_props[individual_pass.name] = {\"final_output\": temp}\n",
    "        return temp"
   ]
  },
  {
   "cell_type": "code",
   "execution_count": 6,
   "id": "dda90ad4-43f2-49e9-ba3e-fb5df7a95e48",
   "metadata": {},
   "outputs": [],
   "source": [
    "def evaluate_quadratic_program(bitstring, program):\n",
    "    constant = program.objective.constant\n",
    "    linear_elements = program.objective.linear.to_dict()\n",
    "    quadratic_elements = program.objective._quadratic.to_dict()\n",
    "\n",
    "    # Flip string so 0th bit is 0th array element for easy math\n",
    "    x = np.fromiter(list(bitstring[::-1]), dtype=int)\n",
    "    \n",
    "    sum = constant\n",
    "    for element, val in linear_elements.items():\n",
    "        sum += x[element] * val\n",
    "    for element, val in quadratic_elements.items():\n",
    "        sum += x[element[0]] * val * x[element[1]]\n",
    "    return sum"
   ]
  },
  {
   "cell_type": "code",
   "execution_count": 7,
   "id": "b8079644-c852-4987-a1fe-fb1e3be425c5",
   "metadata": {},
   "outputs": [],
   "source": [
    "from functools import wraps\n",
    "\n",
    "def validate_output_type(func):     \n",
    "    @wraps(func)\n",
    "    def wrapper(*args, **kwargs):\n",
    "        output_types = args[0].output_types\n",
    "        out = func(*args, **kwargs)\n",
    "        if not isinstance(out, output_types):\n",
    "            raise TypeError(f'Output type not in {output_types}')\n",
    "        return out\n",
    "    return wrapper  "
   ]
  },
  {
   "cell_type": "code",
   "execution_count": 8,
   "id": "a1548836-a5e4-446a-9e6f-8534916bf521",
   "metadata": {},
   "outputs": [],
   "source": [
    "class EvaluateProgramSolution:\n",
    "    \"\"\"Evaluate solutions\n",
    "    \"\"\"\n",
    "    def __init__(self, program=None):\n",
    "        self.program = program\n",
    "        self.input_types = (QuasiDistribution, )\n",
    "        self.output_types = (tuple, )\n",
    "        self.property_set = PropertySet()\n",
    "\n",
    "    @validate_output_type\n",
    "    def run(self, dist):\n",
    "        if self.program is None:\n",
    "            program = self.property_set['qubo-transformer']['final_output']\n",
    "        best_val = np.inf\n",
    "        best_bits = None\n",
    "        for bitstring in dist.binary_probabilities():\n",
    "            temp = evaluate_quadratic_program(bitstring, program)\n",
    "            if temp < best_val:\n",
    "                best_val = temp\n",
    "                best_bits = bitstring\n",
    "        best_bits = best_bits[::-1]\n",
    "        out = (best_val, np.fromiter(best_bits, int))\n",
    "        return out"
   ]
  },
  {
   "cell_type": "code",
   "execution_count": 9,
   "id": "60e03730-2f3a-48fe-bc50-9d079c11603c",
   "metadata": {},
   "outputs": [],
   "source": [
    "mdl = Model(\"docplex model\")\n",
    "x = mdl.binary_var(\"x\")\n",
    "y = mdl.integer_var(lb=-2, ub=2, name=\"y\")\n",
    "mdl.minimize(2 * y - x)\n",
    "# Min-result should be x = 1, y = -2 => -5\n",
    "#print(mdl.export_as_lp_string())"
   ]
  },
  {
   "cell_type": "code",
   "execution_count": 140,
   "id": "3e136c81-0098-46ea-9038-daecaa6949ff",
   "metadata": {},
   "outputs": [],
   "source": [
    "backend = service.get_backend('ibm_nazca')"
   ]
  },
  {
   "cell_type": "code",
   "execution_count": 11,
   "id": "49a33b1f-8262-4171-b71e-f628e8b9c884",
   "metadata": {},
   "outputs": [],
   "source": [
    "qp = QuadraticProgram.from_docplex_mp(mdl)"
   ]
  },
  {
   "cell_type": "code",
   "execution_count": 12,
   "id": "4915d0c1-b45b-493f-b1e6-a6269c548c27",
   "metadata": {},
   "outputs": [],
   "source": [
    "transformer = CompositeWorkflow([InequalityToEquality(), # Transformation\n",
    "                                 IntegerToBinary(), # Transformation\n",
    "                                 LinearEqualityToPenalty(), # Transformation\n",
    "                                 LinearInequalityToPenalty(), # Transformation\n",
    "                                 MaximizeToMinimize(), # Transformation\n",
    "                                ], name='qubo-transformer', store_final_output=True)"
   ]
  },
  {
   "cell_type": "code",
   "execution_count": 15,
   "id": "a41da3bb-bff8-4c8a-90d8-8011e817d4a2",
   "metadata": {},
   "outputs": [],
   "source": [
    "#session = Session(backend=backend)\n",
    "#cw = CompositeWorkflow([transformer,\n",
    "#                        QuadraticProgram2Ising(), # Quantum part - to Hamiltonian\n",
    "                        #QAOASolver(session), # Quantum part - execution on QPU\n",
    "                        #EvaluateProgramSolution() # Quantum part - bit-string to program variables\n",
    "                        ])"
   ]
  },
  {
   "cell_type": "code",
   "execution_count": 13,
   "id": "19e82890-ece0-4904-a9d5-e7d69d4850aa",
   "metadata": {},
   "outputs": [],
   "source": [
    "qubo = transformer.run(qp)\n",
    "hamiltonian = QuadraticProgram2Ising().run(qubo)"
   ]
  },
  {
   "cell_type": "code",
   "execution_count": 14,
   "id": "a7c49fcf-b2b2-49ee-8ad0-454bab9602a9",
   "metadata": {},
   "outputs": [
    {
     "data": {
      "text/plain": [
       "SparsePauliOp(['IIZI', 'IZII', 'ZIII', 'IIIZ', 'IIII'],\n",
       "              coeffs=[-1. +0.j, -2. +0.j, -1. +0.j,  0.5+0.j, -0.5+0.j])"
      ]
     },
     "execution_count": 14,
     "metadata": {},
     "output_type": "execute_result"
    }
   ],
   "source": [
    "hamiltonian"
   ]
  },
  {
   "cell_type": "code",
   "execution_count": 16,
   "id": "d87b1e0d-829f-441e-aeb3-970c43cff521",
   "metadata": {},
   "outputs": [
    {
     "data": {
      "text/plain": [
       "array([0.+0.j, 1.+0.j, 0.+0.j, 0.+0.j, 0.+0.j, 0.+0.j, 0.+0.j, 0.+0.j,\n",
       "       0.+0.j, 0.+0.j, 0.+0.j, 0.+0.j, 0.+0.j, 0.+0.j, 0.+0.j, 0.+0.j])"
      ]
     },
     "execution_count": 16,
     "metadata": {},
     "output_type": "execute_result"
    }
   ],
   "source": [
    "np.linalg.eig(hamiltonian.to_matrix())[1][:,1]"
   ]
  },
  {
   "cell_type": "code",
   "execution_count": 63,
   "id": "aed58f2e-0761-441f-aeea-793adeabc63a",
   "metadata": {},
   "outputs": [],
   "source": [
    "#session = Session(backend=backend)\n",
    "from qiskit.primitives import Estimator as QiskitEstimator\n",
    "from qiskit.primitives import Sampler as QiskitSampler\n",
    "\n",
    "#estimator = Estimator(session=session, options={\"shots\": int(1e4)})\n",
    "#sampler = Sampler(session=session, options={\"shots\": int(1e4)})\n",
    "estimator = QiskitEstimator(options={\"shots\": int(1e4)})\n",
    "sampler = QiskitSampler(options={\"shots\": int(1e4)})\n",
    "\n",
    "ansatz = QAOAAnsatz(hamiltonian, reps=5)\n",
    "def cost_func(params, ansatz, hamiltonian, estimator):\n",
    "    \"\"\"Return estimate of energy from estimator\n",
    "\n",
    "    Parameters:\n",
    "        params (ndarray): Array of ansatz parameters\n",
    "        ansatz (QuantumCircuit): Parameterized ansatz circuit\n",
    "        hamiltonian (SparsePauliOp): Operator representation of Hamiltonian\n",
    "        estimator (Estimator): Estimator primitive instance\n",
    "\n",
    "    Returns:\n",
    "        float: Energy estimate\n",
    "    \"\"\"\n",
    "    cost = estimator.run(ansatz, hamiltonian, parameter_values=params).result().values[0]\n",
    "    return cost\n",
    "\n",
    "x0 = 2*np.pi*np.random.random(size=ansatz.num_parameters)\n",
    "res = minimize_spsa(cost_func, x0, args=(ansatz, hamiltonian, estimator), maxiter=250)\n",
    "# Assign solution parameters to ansatz\n",
    "qc = ansatz.assign_parameters(res.x)\n",
    "# Add measurements to our circuit\n",
    "qc.measure_all()\n",
    "# Sample ansatz at optimal parameters\n",
    "samp_dist = sampler.run(qc, shots=int(1e4)).result().quasi_dists[0]\n",
    "# Close the session since we are now done with it\n",
    "#session.close()"
   ]
  },
  {
   "cell_type": "code",
   "execution_count": 64,
   "id": "b3cdd383-dce5-44a4-9d3e-b99cd2c3031a",
   "metadata": {},
   "outputs": [
    {
     "data": {
      "text/plain": [
       "{'0001': 0.3692,\n",
       " '0000': 0.2224,\n",
       " '0011': 0.0839,\n",
       " '1001': 0.0763,\n",
       " '0010': 0.0523,\n",
       " '1000': 0.0507,\n",
       " '0101': 0.0474,\n",
       " '0100': 0.0303,\n",
       " '1011': 0.0166,\n",
       " '0111': 0.0119,\n",
       " '1010': 0.0111,\n",
       " '1101': 0.0108,\n",
       " '0110': 0.0075,\n",
       " '1100': 0.0059,\n",
       " '1111': 0.0025,\n",
       " '1110': 0.0012}"
      ]
     },
     "execution_count": 64,
     "metadata": {},
     "output_type": "execute_result"
    }
   ],
   "source": [
    "sorted_dict = dict(sorted(samp_dist.binary_probabilities().items(), key=lambda item: -item[1]))\n",
    "sorted_dict"
   ]
  },
  {
   "cell_type": "code",
   "execution_count": 99,
   "id": "6538029d-37e4-4c21-9423-1949496c2600",
   "metadata": {},
   "outputs": [],
   "source": [
    "from qiskit.circuit.library import EfficientSU2, TwoLocal"
   ]
  },
  {
   "cell_type": "code",
   "execution_count": 130,
   "id": "f5272be0-f21d-4591-a45d-3e30720cbe37",
   "metadata": {},
   "outputs": [],
   "source": [
    "#ansatz = EfficientSU2(hamiltonian.num_qubits)\n",
    "ansatz = TwoLocal(hamiltonian.num_qubits, 'ry', 'cx', 'linear', reps=1)\n",
    "def cost_func(params, ansatz, hamiltonian, estimator):\n",
    "    \"\"\"Return estimate of energy from estimator\n",
    "\n",
    "    Parameters:\n",
    "        params (ndarray): Array of ansatz parameters\n",
    "        ansatz (QuantumCircuit): Parameterized ansatz circuit\n",
    "        hamiltonian (SparsePauliOp): Operator representation of Hamiltonian\n",
    "        estimator (Estimator): Estimator primitive instance\n",
    "\n",
    "    Returns:\n",
    "        float: Energy estimate\n",
    "    \"\"\"\n",
    "    cost = estimator.run(ansatz, hamiltonian, parameter_values=params).result().values[0]\n",
    "    return cost\n",
    "\n",
    "x0 = 2*np.pi*np.random.random(size=ansatz.num_parameters)\n",
    "res = minimize_spsa(cost_func, x0, args=(ansatz, hamiltonian, estimator), maxiter=100)"
   ]
  },
  {
   "cell_type": "code",
   "execution_count": 131,
   "id": "550a73ef-3704-425e-9a5c-80cebefeaf16",
   "metadata": {},
   "outputs": [],
   "source": [
    "qc = ansatz.assign_parameters(res.x)\n",
    "# Add measurements to our circuit\n",
    "qc.measure_all()\n",
    "# Sample ansatz at optimal parameters\n",
    "samp_dist = sampler.run(qc, shots=int(1e4)).result().quasi_dists[0]"
   ]
  },
  {
   "cell_type": "code",
   "execution_count": 132,
   "id": "8d2fc901-a1a4-4ca9-9a9c-5627e89113df",
   "metadata": {},
   "outputs": [
    {
     "data": {
      "text/plain": [
       "{0: 0.0174,\n",
       " 1: 0.9763,\n",
       " 2: 0.0033,\n",
       " 3: 0.0007,\n",
       " 5: 0.0006,\n",
       " 6: 0.0009,\n",
       " 9: 0.0001,\n",
       " 13: 0.0007}"
      ]
     },
     "execution_count": 132,
     "metadata": {},
     "output_type": "execute_result"
    }
   ],
   "source": [
    "samp_dist"
   ]
  },
  {
   "cell_type": "code",
   "execution_count": 141,
   "id": "127afd57-7cc0-4e99-9135-9e889e59c6dc",
   "metadata": {},
   "outputs": [],
   "source": [
    "est = Estimator(backend, options={\"shots\": int(1e4)})"
   ]
  },
  {
   "cell_type": "code",
   "execution_count": 142,
   "id": "3ee110d6-10c9-4869-9ead-8275a7da9405",
   "metadata": {},
   "outputs": [
    {
     "data": {
      "text/plain": [
       "<RuntimeJob('cjjjn376hmsgmh10m1jg', 'estimator')>"
      ]
     },
     "execution_count": 142,
     "metadata": {},
     "output_type": "execute_result"
    }
   ],
   "source": [
    "est.run(QuantumCircuit(4), SparsePauliOp.from_list([('IIII', 1.0)]))"
   ]
  },
  {
   "cell_type": "code",
   "execution_count": null,
   "id": "05139170-ff25-4881-a924-9966aefbadbb",
   "metadata": {},
   "outputs": [],
   "source": []
  }
 ],
 "metadata": {
  "kernelspec": {
   "display_name": "Python 3 (ipykernel)",
   "language": "python",
   "name": "python3"
  },
  "language_info": {
   "codemirror_mode": {
    "name": "ipython",
    "version": 3
   },
   "file_extension": ".py",
   "mimetype": "text/x-python",
   "name": "python",
   "nbconvert_exporter": "python",
   "pygments_lexer": "ipython3",
   "version": "3.10.12"
  }
 },
 "nbformat": 4,
 "nbformat_minor": 5
}
