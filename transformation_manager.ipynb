{
 "cells": [
  {
   "cell_type": "code",
   "execution_count": 32,
   "id": "67a5a8b8-337f-4df7-b9c7-716c3ff36529",
   "metadata": {},
   "outputs": [],
   "source": [
    "import numpy as np\n",
    "from qiskit import *\n",
    "from qiskit_optimization import QuadraticProgram\n",
    "from qiskit.quantum_info import SparsePauliOp\n",
    "from qiskit_optimization.converters import (InequalityToEquality, IntegerToBinary, \n",
    "                                            LinearEqualityToPenalty, LinearInequalityToPenalty,\n",
    "                                            MaximizeToMinimize, QuadraticProgram2Ising)\n",
    "# SPSA\n",
    "from qiskit_optimization.spsa import minimize_spsa\n",
    "\n",
    "# Fulqrum\n",
    "from qiskit_optimization.fulqrum import CompositeWorkflow, PropertySet\n",
    "\n",
    "from docplex.mp.model import Model\n",
    "\n",
    "# SciPy minimizer routine\n",
    "from scipy.optimize import minimize\n",
    "\n",
    "from qiskit_ibm_runtime import QiskitRuntimeService\n",
    "from qiskit_ibm_runtime import Estimator, Sampler, Session\n",
    "from qiskit.result import QuasiDistribution\n",
    "\n",
    "from qiskit.circuit.library import EfficientSU2, TwoLocal"
   ]
  },
  {
   "cell_type": "code",
   "execution_count": 3,
   "id": "4ecdb64d-b886-4ab1-a2ec-d36c21e17115",
   "metadata": {},
   "outputs": [],
   "source": [
    "service = QiskitRuntimeService()"
   ]
  },
  {
   "cell_type": "code",
   "execution_count": 33,
   "id": "dda90ad4-43f2-49e9-ba3e-fb5df7a95e48",
   "metadata": {},
   "outputs": [],
   "source": [
    "def evaluate_quadratic_program(bitstring, program):\n",
    "    constant = program.objective.constant\n",
    "    linear_elements = program.objective.linear.to_dict()\n",
    "    quadratic_elements = program.objective._quadratic.to_dict()\n",
    "\n",
    "    # Flip string so 0th bit is 0th array element for easy math\n",
    "    x = np.fromiter(list(bitstring[::-1]), dtype=int)\n",
    "    \n",
    "    sum = constant\n",
    "    for element, val in linear_elements.items():\n",
    "        sum += x[element] * val\n",
    "    for element, val in quadratic_elements.items():\n",
    "        sum += x[element[0]] * val * x[element[1]]\n",
    "    return sum"
   ]
  },
  {
   "cell_type": "code",
   "execution_count": 34,
   "id": "b8079644-c852-4987-a1fe-fb1e3be425c5",
   "metadata": {},
   "outputs": [],
   "source": [
    "from functools import wraps\n",
    "\n",
    "def validate_output_type(func):     \n",
    "    @wraps(func)\n",
    "    def wrapper(*args, **kwargs):\n",
    "        output_types = args[0].output_types\n",
    "        out = func(*args, **kwargs)\n",
    "        if not isinstance(out, output_types):\n",
    "            raise TypeError(f'Output type not in {output_types}')\n",
    "        return out\n",
    "    return wrapper  "
   ]
  },
  {
   "cell_type": "code",
   "execution_count": 56,
   "id": "76b074e2-0a66-4231-8208-318662634c5c",
   "metadata": {},
   "outputs": [
    {
     "data": {
      "text/plain": [
       "numpy.ndarray"
      ]
     },
     "execution_count": 56,
     "metadata": {},
     "output_type": "execute_result"
    }
   ],
   "source": [
    "import numpy as np"
   ]
  },
  {
   "cell_type": "code",
   "execution_count": 59,
   "id": "a1548836-a5e4-446a-9e6f-8534916bf521",
   "metadata": {},
   "outputs": [],
   "source": [
    "class EvaluateProgramSolution:\n",
    "    \"\"\"Evaluate solutions\n",
    "    \"\"\"\n",
    "    def __init__(self, program=None):\n",
    "        self.program = program\n",
    "        self.input_types = (QuasiDistribution, )\n",
    "        self.output_types = (tuple, )\n",
    "        self.property_set = PropertySet()\n",
    "\n",
    "    @validate_output_type\n",
    "    def run(self, dist):\n",
    "        if self.program is None:\n",
    "            program = self.property_set['qubo-transformer']['final_output']\n",
    "        best_val = np.inf\n",
    "        best_bits = None\n",
    "        for bitstring in dist.binary_probabilities():\n",
    "            temp = evaluate_quadratic_program(bitstring, self.program)\n",
    "            if temp < best_val:\n",
    "                best_val = temp\n",
    "                best_bits = bitstring\n",
    "        best_bits = best_bits[::-1]\n",
    "        out = (best_val, np.fromiter(best_bits, int))\n",
    "        return out\n",
    "\n",
    "\n",
    "class UnrollQUBOVariables():\n",
    "    \"\"\"Unroll QUBO variables to their original definitions\n",
    "    \"\"\"\n",
    "    def __init__(self, workflow):\n",
    "        self.workflow = workflow\n",
    "        self.input_types = (tuple, )\n",
    "        self.output_types = (np.ndarray, )\n",
    "        self.property_set = PropertySet()\n",
    "\n",
    "    @validate_output_type\n",
    "    def run(self, solution):\n",
    "        x = np.fromiter(solution[1], dtype=int)\n",
    "        for converter in self.workflow.passes[::-1]:\n",
    "            x = converter.interpret(x)\n",
    "        return x"
   ]
  },
  {
   "cell_type": "code",
   "execution_count": 36,
   "id": "60e03730-2f3a-48fe-bc50-9d079c11603c",
   "metadata": {},
   "outputs": [],
   "source": [
    "mdl = Model(\"docplex model\")\n",
    "x = mdl.binary_var(\"x\")\n",
    "y = mdl.integer_var(lb=-2, ub=2, name=\"y\")\n",
    "mdl.minimize(2 * y - x)\n",
    "# Min-result should be x = 1, y = -2 => -5\n",
    "#print(mdl.export_as_lp_string())"
   ]
  },
  {
   "cell_type": "code",
   "execution_count": 37,
   "id": "3e136c81-0098-46ea-9038-daecaa6949ff",
   "metadata": {},
   "outputs": [],
   "source": [
    "backend = service.get_backend('ibm_nazca')"
   ]
  },
  {
   "cell_type": "code",
   "execution_count": 38,
   "id": "49a33b1f-8262-4171-b71e-f628e8b9c884",
   "metadata": {},
   "outputs": [],
   "source": [
    "qp = QuadraticProgram.from_docplex_mp(mdl)"
   ]
  },
  {
   "cell_type": "code",
   "execution_count": 50,
   "id": "4915d0c1-b45b-493f-b1e6-a6269c548c27",
   "metadata": {},
   "outputs": [],
   "source": [
    "qubo_transformer = CompositeWorkflow([InequalityToEquality(), # Transformation\n",
    "                                      IntegerToBinary(), # Transformation\n",
    "                                      LinearEqualityToPenalty(), # Transformation\n",
    "                                      LinearInequalityToPenalty(), # Transformation\n",
    "                                      MaximizeToMinimize(), # Transformation\n",
    "                                     ], name='qubo-transformer', store_final_output=True)"
   ]
  },
  {
   "cell_type": "code",
   "execution_count": 40,
   "id": "a41da3bb-bff8-4c8a-90d8-8011e817d4a2",
   "metadata": {},
   "outputs": [],
   "source": [
    "#session = Session(backend=backend)\n",
    "#cw = CompositeWorkflow([transformer,\n",
    "#                        QuadraticProgram2Ising(), # Quantum part - to Hamiltonian\n",
    "                        #QAOASolver(session), # Quantum part - execution on QPU\n",
    "                        #EvaluateProgramSolution() # Quantum part - bit-string to program variables\n",
    "#                        ])"
   ]
  },
  {
   "cell_type": "code",
   "execution_count": 51,
   "id": "19e82890-ece0-4904-a9d5-e7d69d4850aa",
   "metadata": {},
   "outputs": [],
   "source": [
    "qubo = qubo_transformer.run(qp)\n",
    "hamiltonian = QuadraticProgram2Ising().run(qubo)"
   ]
  },
  {
   "cell_type": "code",
   "execution_count": 52,
   "id": "a7c49fcf-b2b2-49ee-8ad0-454bab9602a9",
   "metadata": {},
   "outputs": [
    {
     "data": {
      "text/plain": [
       "SparsePauliOp(['IIZI', 'IZII', 'ZIII', 'IIIZ', 'IIII'],\n",
       "              coeffs=[-1. +0.j, -2. +0.j, -1. +0.j,  0.5+0.j, -0.5+0.j])"
      ]
     },
     "execution_count": 52,
     "metadata": {},
     "output_type": "execute_result"
    }
   ],
   "source": [
    "hamiltonian"
   ]
  },
  {
   "cell_type": "code",
   "execution_count": 43,
   "id": "d87b1e0d-829f-441e-aeb3-970c43cff521",
   "metadata": {},
   "outputs": [
    {
     "data": {
      "text/plain": [
       "array([0.+0.j, 1.+0.j, 0.+0.j, 0.+0.j, 0.+0.j, 0.+0.j, 0.+0.j, 0.+0.j,\n",
       "       0.+0.j, 0.+0.j, 0.+0.j, 0.+0.j, 0.+0.j, 0.+0.j, 0.+0.j, 0.+0.j])"
      ]
     },
     "execution_count": 43,
     "metadata": {},
     "output_type": "execute_result"
    }
   ],
   "source": [
    "np.linalg.eig(hamiltonian.to_matrix())[1][:,1]"
   ]
  },
  {
   "cell_type": "code",
   "execution_count": 53,
   "id": "aed58f2e-0761-441f-aeea-793adeabc63a",
   "metadata": {},
   "outputs": [],
   "source": [
    "#session = Session(backend=backend)\n",
    "from qiskit.primitives import Estimator as QiskitEstimator\n",
    "from qiskit.primitives import Sampler as QiskitSampler\n",
    "\n",
    "#estimator = Estimator(session=session, options={\"shots\": int(1e4)})\n",
    "#sampler = Sampler(session=session, options={\"shots\": int(1e4)})\n",
    "\n",
    "\n",
    "def cost_func(params, ansatz, hamiltonian, estimator):\n",
    "    \"\"\"Return estimate of energy from estimator\n",
    "\n",
    "    Parameters:\n",
    "        params (ndarray): Array of ansatz parameters\n",
    "        ansatz (QuantumCircuit): Parameterized ansatz circuit\n",
    "        hamiltonian (SparsePauliOp): Operator representation of Hamiltonian\n",
    "        estimator (Estimator): Estimator primitive instance\n",
    "\n",
    "    Returns:\n",
    "        float: Energy estimate\n",
    "    \"\"\"\n",
    "    cost = estimator.run(ansatz, hamiltonian, parameter_values=params).result().values[0]\n",
    "    return cost\n",
    "\n",
    "\n",
    "ansatz = TwoLocal(hamiltonian.num_qubits, 'ry', 'cx', 'linear', reps=1)\n",
    "x0 = 2*np.pi*np.random.random(size=ansatz.num_parameters)\n",
    "estimator = QiskitEstimator(options={\"shots\": int(1e4)})\n",
    "sampler = QiskitSampler(options={\"shots\": int(1e4)})\n",
    "res = minimize_spsa(cost_func, x0, args=(ansatz, hamiltonian, estimator), maxiter=100)\n",
    "# Assign solution parameters to ansatz\n",
    "qc = ansatz.assign_parameters(res.x)\n",
    "# Add measurements to our circuit\n",
    "qc.measure_all()\n",
    "# Sample ansatz at optimal parameters\n",
    "samp_dist = sampler.run(qc, shots=int(1e4)).result().quasi_dists[0]\n",
    "# Close the session since we are now done with it\n",
    "#session.close()"
   ]
  },
  {
   "cell_type": "code",
   "execution_count": 60,
   "id": "6538029d-37e4-4c21-9423-1949496c2600",
   "metadata": {},
   "outputs": [],
   "source": [
    "sol = EvaluateProgramSolution(qubo).run(samp_dist)"
   ]
  },
  {
   "cell_type": "code",
   "execution_count": 61,
   "id": "05139170-ff25-4881-a924-9966aefbadbb",
   "metadata": {},
   "outputs": [
    {
     "data": {
      "text/plain": [
       "array([ 1., -2.])"
      ]
     },
     "execution_count": 61,
     "metadata": {},
     "output_type": "execute_result"
    }
   ],
   "source": [
    "UnrollQUBOVariables(qubo_transformer).run(sol)"
   ]
  },
  {
   "cell_type": "code",
   "execution_count": null,
   "id": "0e96a619-bc11-4494-b50c-c90436b977b6",
   "metadata": {},
   "outputs": [],
   "source": []
  }
 ],
 "metadata": {
  "kernelspec": {
   "display_name": "Python 3 (ipykernel)",
   "language": "python",
   "name": "python3"
  },
  "language_info": {
   "codemirror_mode": {
    "name": "ipython",
    "version": 3
   },
   "file_extension": ".py",
   "mimetype": "text/x-python",
   "name": "python",
   "nbconvert_exporter": "python",
   "pygments_lexer": "ipython3",
   "version": "3.10.12"
  }
 },
 "nbformat": 4,
 "nbformat_minor": 5
}
