{
 "cells": [
  {
   "cell_type": "code",
   "execution_count": 1,
   "id": "67a5a8b8-337f-4df7-b9c7-716c3ff36529",
   "metadata": {},
   "outputs": [],
   "source": [
    "import numpy as np\n",
    "from qiskit_optimization import QuadraticProgram\n",
    "from qiskit.quantum_info import SparsePauliOp\n",
    "from qiskit_optimization.converters import (InequalityToEquality, IntegerToBinary, \n",
    "                                            LinearEqualityToPenalty, LinearInequalityToPenalty,\n",
    "                                            MaximizeToMinimize)\n",
    "from docplex.mp.model import Model\n",
    "\n",
    "# SciPy minimizer routine\n",
    "from scipy.optimize import minimize\n",
    "\n",
    "from qiskit_ibm_runtime import QiskitRuntimeService\n",
    "from qiskit_ibm_runtime import Estimator, Sampler, Session\n",
    "from qiskit.result import QuasiDistribution\n",
    "from qiskit.circuit.library import QAOAAnsatz"
   ]
  },
  {
   "cell_type": "code",
   "execution_count": 2,
   "id": "4ecdb64d-b886-4ab1-a2ec-d36c21e17115",
   "metadata": {},
   "outputs": [],
   "source": [
    "service = QiskitRuntimeService()"
   ]
  },
  {
   "cell_type": "code",
   "execution_count": 3,
   "id": "08d414af-099d-4ad4-bdf7-fb9dd85619b3",
   "metadata": {},
   "outputs": [],
   "source": [
    "class QuadraticProgram2Ising:\n",
    "    \"\"\"A mapping of `QuadraticProgram` to a Ising Hamiltonian\n",
    "    in `SparsePauliOp` format\n",
    "    \"\"\"\n",
    "    def __init__(self):\n",
    "        self.input_types = (QuadraticProgram, )\n",
    "        self.output_types = (SparsePauliOp, )\n",
    "\n",
    "    def run(self, program, ansatz = None):\n",
    "        if not isinstance(program, self.input_types):\n",
    "            raise TypeError(f\"Program is invalid input type, must be one of {self.input_types}\")\n",
    "        ising, constant = program.to_ising(opflow=False)\n",
    "        return ising + SparsePauliOp.from_list([(\"I\"*ising.num_qubits, constant)])"
   ]
  },
  {
   "cell_type": "code",
   "execution_count": 4,
   "id": "cbe54067-bad2-4736-8ee0-eb7e9598b182",
   "metadata": {},
   "outputs": [],
   "source": [
    "class QAOASolver:\n",
    "    def __init__(self, session, qaoa_reps=2):\n",
    "        self.input_types = (SparsePauliOp, )\n",
    "        self.output_types = (QuasiDistribution, )\n",
    "        self.session = session\n",
    "        self.qaoa_reps = 2\n",
    "\n",
    "    def run(self, hamiltonian):\n",
    "        ansatz = QAOAAnsatz(hamiltonian, reps=2)\n",
    "        estimator = Estimator(session=session, options={\"shots\": int(1e4)})\n",
    "        sampler = Sampler(session=session, options={\"shots\": int(1e4)})\n",
    "\n",
    "        def cost_func(params, ansatz, hamiltonian, estimator):\n",
    "            \"\"\"Return estimate of energy from estimator\n",
    "        \n",
    "            Parameters:\n",
    "                params (ndarray): Array of ansatz parameters\n",
    "                ansatz (QuantumCircuit): Parameterized ansatz circuit\n",
    "                hamiltonian (SparsePauliOp): Operator representation of Hamiltonian\n",
    "                estimator (Estimator): Estimator primitive instance\n",
    "        \n",
    "            Returns:\n",
    "                float: Energy estimate\n",
    "            \"\"\"\n",
    "            cost = estimator.run(ansatz, hamiltonian, parameter_values=params).result().values[0]\n",
    "            return cost\n",
    "\n",
    "        x0 = 2 * np.pi * np.random.rand(ansatz.num_parameters)\n",
    "        res = minimize(cost_func, x0, args=(ansatz, hamiltonian, estimator), method=\"COBYLA\")\n",
    "        # Assign solution parameters to ansatz\n",
    "        qc = ansatz.assign_parameters(res.x)\n",
    "        # Add measurements to our circuit\n",
    "        qc.measure_all()\n",
    "        # Sample ansatz at optimal parameters\n",
    "        samp_dist = sampler.run(qc, shots=int(1e4)).result().quasi_dists[0]\n",
    "        # Close the session since we are now done with it\n",
    "        session.close()\n",
    "        return samp_dist"
   ]
  },
  {
   "cell_type": "code",
   "execution_count": 5,
   "id": "6ae2f316-d81a-4b2e-abda-8bef5889e503",
   "metadata": {},
   "outputs": [],
   "source": [
    "import copy\n",
    "import warnings\n",
    "\n",
    "class PropertySet(dict):\n",
    "    \"\"\"A default dictionary-like object\"\"\"\n",
    "    def __missing__(self, key):\n",
    "        return None\n",
    "\n",
    "class CompositeWorkflow:\n",
    "    def __init__(self, passes, name=None, store_final_output=False, strict_validation=True):\n",
    "        self.passes = passes\n",
    "        self.name = name\n",
    "        self.store_final_output = store_final_output\n",
    "        self.input_types = None\n",
    "        self.output_types = None\n",
    "        self.strict_validation = strict_validation\n",
    "        self._validate_passes()\n",
    "        self.property_set = PropertySet()\n",
    "\n",
    "    def _validate_passes(self):\n",
    "        self.input_types = self.passes[0].input_types\n",
    "        input_types = self.passes[0].input_types\n",
    "        for idx, individual_pass in enumerate(self.passes):\n",
    "            # If the pass is itself a CompositeWorkflow then run its validation\n",
    "            if isinstance(individual_pass, CompositeWorkflow):\n",
    "                individual_pass._validate_passes()\n",
    "                continue\n",
    "            temp_input_types = individual_pass.input_types\n",
    "            # Look to see if there is overlap between last passes outputs\n",
    "            # and this passes inputs\n",
    "            input_overlap = set(input_types).intersection(set(temp_input_types))\n",
    "            # If no overlap, bad news\n",
    "            if not input_overlap:\n",
    "                raise Exception(f\"{temp_input_types} not compatible with {input_types}\")\n",
    "            # If partial overlap, then can only weakly validate the workflow, raise\n",
    "            # unless explicitly disabled\n",
    "            if len(input_overlap) != len(temp_input_types) and self.strict_validation:\n",
    "                diffs = set(input_types).difference(set(temp_input_types))\n",
    "                raise Exception(f\"Possible inputs {diffs} not valid for this pass\")\n",
    "            input_types = individual_pass.output_types\n",
    "        self.output_types = individual_pass.output_types\n",
    "    \n",
    "    def run(self, input):\n",
    "        temp = copy.deepcopy(input)\n",
    "        working_props = self.property_set\n",
    "        for individual_pass in self.passes:\n",
    "            individual_pass.property_set = working_props\n",
    "            temp = individual_pass.run(temp)\n",
    "            if isinstance(individual_pass, CompositeWorkflow):\n",
    "                if individual_pass.store_final_output:\n",
    "                    working_props[individual_pass.name] = {\"final_output\": temp}\n",
    "        return temp"
   ]
  },
  {
   "cell_type": "code",
   "execution_count": 12,
   "id": "60e03730-2f3a-48fe-bc50-9d079c11603c",
   "metadata": {},
   "outputs": [],
   "source": [
    "mdl = Model(\"docplex model\")\n",
    "x = mdl.binary_var(\"x\")\n",
    "y = mdl.binary_var(\"y\")\n",
    "z = mdl.binary_var(\"z\")\n",
    "mdl.minimize(x - 2*y + 3*z + x*y + x*z + 2*y*z)\n",
    "#print(mdl.export_as_lp_string())"
   ]
  },
  {
   "cell_type": "code",
   "execution_count": 14,
   "id": "3e136c81-0098-46ea-9038-daecaa6949ff",
   "metadata": {},
   "outputs": [],
   "source": [
    "backend = service.get_backend('ibmq_qasm_simulator')"
   ]
  },
  {
   "cell_type": "code",
   "execution_count": 15,
   "id": "564152b2-fb12-4ceb-90c6-880ecd1043ae",
   "metadata": {},
   "outputs": [],
   "source": [
    "session = Session(backend=backend)"
   ]
  },
  {
   "cell_type": "code",
   "execution_count": 13,
   "id": "49a33b1f-8262-4171-b71e-f628e8b9c884",
   "metadata": {},
   "outputs": [],
   "source": [
    "qp = QuadraticProgram.from_docplex_mp(mdl)"
   ]
  },
  {
   "cell_type": "code",
   "execution_count": 25,
   "id": "4915d0c1-b45b-493f-b1e6-a6269c548c27",
   "metadata": {},
   "outputs": [],
   "source": [
    "transform = CompositeWorkflow([InequalityToEquality(), # Transformation\n",
    "                        IntegerToBinary(), # Transformation\n",
    "                        LinearEqualityToPenalty(), # Transformation\n",
    "                        LinearInequalityToPenalty(), # Transformation\n",
    "                        MaximizeToMinimize(), # Transformation\n",
    "                        ], name='qubo-transformer', store_final_output=True)"
   ]
  },
  {
   "cell_type": "code",
   "execution_count": 26,
   "id": "a41da3bb-bff8-4c8a-90d8-8011e817d4a2",
   "metadata": {},
   "outputs": [],
   "source": [
    "cw = CompositeWorkflow([transform,\n",
    "                        QuadraticProgram2Ising(), # Quantum part - to Hamiltonian\n",
    "                        QAOASolver(session), # Quantum part - execution on QPU\n",
    "                        EvaluateProgramSolution() # Quantum part - bit-string to program variables\n",
    "                        ])"
   ]
  },
  {
   "cell_type": "code",
   "execution_count": 27,
   "id": "4b50fb46-d72f-42bc-9589-8dc9b37fca4e",
   "metadata": {},
   "outputs": [
    {
     "data": {
      "text/plain": [
       "(qiskit_optimization.problems.quadratic_program.QuadraticProgram,)"
      ]
     },
     "execution_count": 27,
     "metadata": {},
     "output_type": "execute_result"
    }
   ],
   "source": [
    "cw.input_types"
   ]
  },
  {
   "cell_type": "code",
   "execution_count": 28,
   "id": "710723a5-9c7f-45b0-8fbe-2544084414cb",
   "metadata": {},
   "outputs": [
    {
     "data": {
      "text/plain": [
       "(tuple,)"
      ]
     },
     "execution_count": 28,
     "metadata": {},
     "output_type": "execute_result"
    }
   ],
   "source": [
    "cw.output_types"
   ]
  },
  {
   "cell_type": "code",
   "execution_count": null,
   "id": "d87b1e0d-829f-441e-aeb3-970c43cff521",
   "metadata": {},
   "outputs": [
    {
     "name": "stderr",
     "output_type": "stream",
     "text": [
      "Traceback (most recent call last):\n",
      "  File \"/Users/paul/mambaforge/envs/qiskit-310/lib/python3.10/site-packages/scipy/optimize/_cobyla_py.py\", line 273, in calcfc\n",
      "capi_return is NULL\n",
      "Call-back cb_calcfc_in__cobyla__user__routines failed.\n",
      "Fatal Python error: F2PySwapThreadLocalCallbackPtr: F2PySwapThreadLocalCallbackPtr: PyLong_AsVoidPtr failed\n",
      "Python runtime state: initialized\n",
      "    f = fun(np.copy(x), *args)\n",
      "  File \"/var/folders/01/dp6k619n4dng8l43hj8z2nl80000gn/T/ipykernel_78547/3649083624.py\", line 25, in cost_func\n",
      "  File \"/Users/paul/mambaforge/envs/qiskit-310/lib/python3.10/site-packages/qiskit_ibm_runtime/estimator.py\", line 147, in run\n",
      "    return super().run(\n",
      "  File \"/Users/paul/mambaforge/envs/qiskit-310/lib/python3.10/site-packages/qiskit/primitives/base/base_estimator.py\", line 188, in run\n",
      "    return self._run(\n",
      "  File \"/Users/paul/mambaforge/envs/qiskit-310/lib/python3.10/site-packages/qiskit_ibm_runtime/estimator.py\", line 185, in _run\n",
      "    return self._run_primitive(\n",
      "  File \"/Users/paul/mambaforge/envs/qiskit-310/lib/python3.10/site-packages/qiskit_ibm_runtime/base_primitive.py\", line 196, in _run_primitive\n",
      "    return self._session.run(\n",
      "  File \"/Users/paul/mambaforge/envs/qiskit-310/lib/python3.10/site-packages/qiskit_ibm_runtime/session.py\", line 38, in _wrapper\n",
      "    raise RuntimeError(\"The session is closed.\")\n",
      "RuntimeError: The session is closed.\n"
     ]
    }
   ],
   "source": [
    "ans = cw.run(qp)"
   ]
  },
  {
   "cell_type": "code",
   "execution_count": 23,
   "id": "aed58f2e-0761-441f-aeea-793adeabc63a",
   "metadata": {},
   "outputs": [
    {
     "data": {
      "text/plain": [
       "(-2.0, [('x', '0'), ('y', '1'), ('z', '0')])"
      ]
     },
     "execution_count": 23,
     "metadata": {},
     "output_type": "execute_result"
    }
   ],
   "source": [
    "ans"
   ]
  },
  {
   "cell_type": "code",
   "execution_count": 10,
   "id": "dda90ad4-43f2-49e9-ba3e-fb5df7a95e48",
   "metadata": {},
   "outputs": [],
   "source": [
    "def evaluate_quadratic_program(bitstring, program):\n",
    "    constant = program.objective.constant\n",
    "    linear_elements = program.objective.linear.to_dict()\n",
    "    quadratic_elements = program.objective._quadratic.to_dict()\n",
    "\n",
    "    # Flip string so 0th bit is 0th array element for easy math\n",
    "    x = np.fromiter(list(bitstring[::-1]), dtype=int)\n",
    "    \n",
    "    sum = constant\n",
    "    for element, val in linear_elements.items():\n",
    "        sum += x[element] * val\n",
    "    for element, val in quadratic_elements.items():\n",
    "        sum += x[element[0]] * val * x[element[1]]\n",
    "    return sum"
   ]
  },
  {
   "cell_type": "code",
   "execution_count": 24,
   "id": "a1548836-a5e4-446a-9e6f-8534916bf521",
   "metadata": {},
   "outputs": [],
   "source": [
    "class EvaluateProgramSolution:\n",
    "    \"\"\"Evaluate solutions\n",
    "    \"\"\"\n",
    "    def __init__(self, program=None):\n",
    "        self.program = program\n",
    "        self.input_types = (QuasiDistribution, )\n",
    "        self.output_types = (tuple, )\n",
    "        self.property_set = PropertySet()\n",
    "\n",
    "    def run(self, dist):\n",
    "        if self.program is None:\n",
    "            program = self.property_set['qubo-transformer']['final_output']\n",
    "        best_val = np.inf\n",
    "        best_bits = None\n",
    "        for bitstring in dist.binary_probabilities():\n",
    "            temp = evaluate_quadratic_program(bitstring, program)\n",
    "            if temp < best_val:\n",
    "                best_val = temp\n",
    "                best_bits = bitstring\n",
    "        best_bits = best_bits[::-1]\n",
    "        out = (best_val, [(var.name, int(best_bits[idx])) for idx, var in enumerate(program.variables)])\n",
    "        if not isinstance(out, self.output_types):\n",
    "            raise TypeError(\"Return type not in 'self.output_types'\")\n",
    "        return out"
   ]
  },
  {
   "cell_type": "code",
   "execution_count": null,
   "id": "b8079644-c852-4987-a1fe-fb1e3be425c5",
   "metadata": {},
   "outputs": [],
   "source": []
  }
 ],
 "metadata": {
  "kernelspec": {
   "display_name": "Python 3 (ipykernel)",
   "language": "python",
   "name": "python3"
  },
  "language_info": {
   "codemirror_mode": {
    "name": "ipython",
    "version": 3
   },
   "file_extension": ".py",
   "mimetype": "text/x-python",
   "name": "python",
   "nbconvert_exporter": "python",
   "pygments_lexer": "ipython3",
   "version": "3.10.12"
  }
 },
 "nbformat": 4,
 "nbformat_minor": 5
}
