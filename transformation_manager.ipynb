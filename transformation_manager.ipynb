{
 "cells": [
  {
   "cell_type": "code",
   "execution_count": 1,
   "id": "67a5a8b8-337f-4df7-b9c7-716c3ff36529",
   "metadata": {},
   "outputs": [],
   "source": [
    "import numpy as np\n",
    "from qiskit_optimization import QuadraticProgram\n",
    "from qiskit.quantum_info import SparsePauliOp\n",
    "from qiskit_optimization.converters import (InequalityToEquality, IntegerToBinary, \n",
    "                                            LinearEqualityToPenalty, LinearInequalityToPenalty, MaximizeToMinimize)\n",
    "from docplex.mp.model import Model\n",
    "\n",
    "# SciPy minimizer routine\n",
    "from scipy.optimize import minimize\n",
    "\n",
    "from qiskit_ibm_runtime import QiskitRuntimeService\n",
    "from qiskit_ibm_runtime import Estimator, Sampler, Session\n",
    "from qiskit.result import QuasiDistribution\n",
    "from qiskit.circuit.library import QAOAAnsatz"
   ]
  },
  {
   "cell_type": "code",
   "execution_count": 2,
   "id": "4ecdb64d-b886-4ab1-a2ec-d36c21e17115",
   "metadata": {},
   "outputs": [],
   "source": [
    "#service = QiskitRuntimeService()"
   ]
  },
  {
   "cell_type": "code",
   "execution_count": 41,
   "id": "08d414af-099d-4ad4-bdf7-fb9dd85619b3",
   "metadata": {},
   "outputs": [],
   "source": [
    "class QuadraticProgram2Ising:\n",
    "    \"\"\"A mapping of `QuadraticProgram` to a Ising Hamiltonian\n",
    "    in `SparsePauliOp` format\n",
    "    \"\"\"\n",
    "    def __init__(self):\n",
    "        self.input_types = (QuadraticProgram, )\n",
    "        self.output_types = (SparsePauliOp, )\n",
    "\n",
    "    def run(self, program, ansatz = None):\n",
    "        if not isinstance(program, self.input_types):\n",
    "            raise TypeError(f\"Program is invalid input type, must be one of {self.input_types}\")\n",
    "        ising, constant = program.to_ising(opflow=False)\n",
    "        return ising + SparsePauliOp.from_list([(\"I\"*ising.num_qubits, constant)])"
   ]
  },
  {
   "cell_type": "code",
   "execution_count": 42,
   "id": "cbe54067-bad2-4736-8ee0-eb7e9598b182",
   "metadata": {},
   "outputs": [],
   "source": [
    "class QAOASolver:\n",
    "    def __init__(self, session, qaoa_reps=2):\n",
    "        self.input_types = (SparsePauliOp, )\n",
    "        self.output_types = (QuasiDistribution, )\n",
    "        self.session = session\n",
    "        self.qaoa_reps = 2\n",
    "\n",
    "    def run(self, hamiltonian):\n",
    "        ansatz = QAOAAnsatz(hamiltonian, reps=2)\n",
    "        estimator = Estimator(session=session, options={\"shots\": int(1e4)})\n",
    "        sampler = Sampler(session=session, options={\"shots\": int(1e4)})\n",
    "\n",
    "        def cost_func(params, ansatz, hamiltonian, estimator):\n",
    "            \"\"\"Return estimate of energy from estimator\n",
    "        \n",
    "            Parameters:\n",
    "                params (ndarray): Array of ansatz parameters\n",
    "                ansatz (QuantumCircuit): Parameterized ansatz circuit\n",
    "                hamiltonian (SparsePauliOp): Operator representation of Hamiltonian\n",
    "                estimator (Estimator): Estimator primitive instance\n",
    "        \n",
    "            Returns:\n",
    "                float: Energy estimate\n",
    "            \"\"\"\n",
    "            cost = estimator.run(ansatz, hamiltonian, parameter_values=params).result().values[0]\n",
    "            return cost\n",
    "\n",
    "        x0 = 2 * np.pi * np.random.rand(ansatz.num_parameters)\n",
    "        res = minimize(cost_func, x0, args=(ansatz, hamiltonian, estimator), method=\"COBYLA\")\n",
    "        # Assign solution parameters to ansatz\n",
    "        qc = ansatz.assign_parameters(res.x)\n",
    "        # Add measurements to our circuit\n",
    "        qc.measure_all()\n",
    "        # Sample ansatz at optimal parameters\n",
    "        samp_dist = sampler.run(qc, shots=int(1e4)).result().quasi_dists[0]\n",
    "        # Close the session since we are now done with it\n",
    "        session.close()\n",
    "        return samp_dist"
   ]
  },
  {
   "cell_type": "code",
   "execution_count": 43,
   "id": "6ae2f316-d81a-4b2e-abda-8bef5889e503",
   "metadata": {},
   "outputs": [],
   "source": [
    "import copy\n",
    "import warnings\n",
    "\n",
    "class CompositeWorkflow:\n",
    "    def __init__(self, passes):\n",
    "        self.passes = passes\n",
    "        self.input_types = None\n",
    "        self.output_types = None\n",
    "        self.strict_validation = True\n",
    "        self._validate_passes()\n",
    "\n",
    "    def _validate_passes(self):\n",
    "        self.input_types = self.passes[0].input_types\n",
    "        input_types = self.passes[0].input_types\n",
    "        for individual_pass in self.passes:\n",
    "            temp_input_types = individual_pass.input_types\n",
    "            input_overlap = set(input_types).intersection(set(temp_input_types))\n",
    "            if not input_overlap:\n",
    "                raise Exception(f\"{temp_input_types} not compatible with {input_types}\")\n",
    "            if len(input_overlap) != len(temp_input_types) and self.strict_validation:\n",
    "                self.strict_validation = False\n",
    "            input_types = individual_pass.output_types\n",
    "        self.output_types = individual_pass.output_types\n",
    "        if not self.strict_validation:\n",
    "            warnings.warn('CompositeWorkflow is only weakly validated')\n",
    "            \n",
    "        \n",
    "    \n",
    "    def run(self, input):\n",
    "        temp = copy.deepcopy(input)\n",
    "        for individual_pass in self.passes:\n",
    "            temp = individual_pass.run(temp)\n",
    "        return temp"
   ]
  },
  {
   "cell_type": "code",
   "execution_count": 44,
   "id": "60e03730-2f3a-48fe-bc50-9d079c11603c",
   "metadata": {},
   "outputs": [],
   "source": [
    "mdl = Model(\"docplex model\")\n",
    "x = mdl.binary_var(\"x\")\n",
    "y = mdl.binary_var(\"y\")\n",
    "z = mdl.binary_var(\"z\")\n",
    "mdl.minimize(x - 2*y + 3*z + x*y + x*z + 2*y*z)\n",
    "#print(mdl.export_as_lp_string())"
   ]
  },
  {
   "cell_type": "code",
   "execution_count": 45,
   "id": "49a33b1f-8262-4171-b71e-f628e8b9c884",
   "metadata": {},
   "outputs": [],
   "source": [
    "qp = QuadraticProgram.from_docplex_mp(mdl)"
   ]
  },
  {
   "cell_type": "code",
   "execution_count": 46,
   "id": "3e136c81-0098-46ea-9038-daecaa6949ff",
   "metadata": {},
   "outputs": [],
   "source": [
    "#backend = service.get_backend('ibmq_qasm_simulator')"
   ]
  },
  {
   "cell_type": "code",
   "execution_count": 47,
   "id": "564152b2-fb12-4ceb-90c6-880ecd1043ae",
   "metadata": {},
   "outputs": [],
   "source": [
    "#session = Session(backend=backend)"
   ]
  },
  {
   "cell_type": "code",
   "execution_count": 49,
   "id": "a41da3bb-bff8-4c8a-90d8-8011e817d4a2",
   "metadata": {},
   "outputs": [],
   "source": [
    "cw = CompositeWorkflow([InequalityToEquality(), # Transformation\n",
    "                        IntegerToBinary(), # Transformation\n",
    "                        LinearEqualityToPenalty(), # Transformation\n",
    "                        LinearInequalityToPenalty(), # Transformation\n",
    "                        MaximizeToMinimize(), # Transformation\n",
    "                        #QuadraticProgram2Ising(), # Conversion\n",
    "                        #QAOASolver(session) # Execute\n",
    "                        ])"
   ]
  },
  {
   "cell_type": "code",
   "execution_count": 30,
   "id": "4b50fb46-d72f-42bc-9589-8dc9b37fca4e",
   "metadata": {},
   "outputs": [
    {
     "data": {
      "text/plain": [
       "(qiskit_optimization.problems.quadratic_program.QuadraticProgram,)"
      ]
     },
     "execution_count": 30,
     "metadata": {},
     "output_type": "execute_result"
    }
   ],
   "source": [
    "cw.input_types"
   ]
  },
  {
   "cell_type": "code",
   "execution_count": 31,
   "id": "710723a5-9c7f-45b0-8fbe-2544084414cb",
   "metadata": {},
   "outputs": [
    {
     "data": {
      "text/plain": [
       "(qiskit_optimization.problems.quadratic_program.QuadraticProgram,)"
      ]
     },
     "execution_count": 31,
     "metadata": {},
     "output_type": "execute_result"
    }
   ],
   "source": [
    "cw.output_types"
   ]
  },
  {
   "cell_type": "code",
   "execution_count": 13,
   "id": "d87b1e0d-829f-441e-aeb3-970c43cff521",
   "metadata": {},
   "outputs": [],
   "source": [
    "qubo = cw.run(qp)"
   ]
  },
  {
   "cell_type": "code",
   "execution_count": 14,
   "id": "aed58f2e-0761-441f-aeea-793adeabc63a",
   "metadata": {},
   "outputs": [
    {
     "data": {
      "text/plain": [
       "<QuadraticProgram: minimize x*y + x*z + 2*y*z + x - 2*y + 3*z, 3 variables, 0 constraints, 'docplex model'>"
      ]
     },
     "execution_count": 14,
     "metadata": {},
     "output_type": "execute_result"
    }
   ],
   "source": [
    "qubo"
   ]
  },
  {
   "cell_type": "code",
   "execution_count": 2,
   "id": "dda90ad4-43f2-49e9-ba3e-fb5df7a95e48",
   "metadata": {},
   "outputs": [],
   "source": [
    "def evaluate_quadratic_program(bitstring, program):\n",
    "    constant = program.objective.constant\n",
    "    linear_elements = program.objective.linear.to_dict()\n",
    "    quadratic_elements = program.objective._quadratic.to_dict()\n",
    "\n",
    "    # Flip string so 0th bit is 0th array element for easy math\n",
    "    x = np.fromiter(list(bitstring[::-1]), dtype=int)\n",
    "    \n",
    "    sum = constant\n",
    "    for element, val in linear_elements.items():\n",
    "        sum += x[element] * val\n",
    "    for element, val in quadratic_elements.items():\n",
    "        sum += x[element[0]] * val * x[element[1]]\n",
    "    return sum"
   ]
  },
  {
   "cell_type": "code",
   "execution_count": 26,
   "id": "19e6dc53-314c-40a1-9f33-6132e4a4983a",
   "metadata": {},
   "outputs": [
    {
     "ename": "NameError",
     "evalue": "name 'qubo' is not defined",
     "output_type": "error",
     "traceback": [
      "\u001b[0;31m---------------------------------------------------------------------------\u001b[0m",
      "\u001b[0;31mNameError\u001b[0m                                 Traceback (most recent call last)",
      "Cell \u001b[0;32mIn[26], line 3\u001b[0m\n\u001b[1;32m      1\u001b[0m results \u001b[38;5;241m=\u001b[39m []\n\u001b[1;32m      2\u001b[0m \u001b[38;5;28;01mfor\u001b[39;00m bitstring \u001b[38;5;129;01min\u001b[39;00m probs:\n\u001b[0;32m----> 3\u001b[0m     results\u001b[38;5;241m.\u001b[39mappend(evaluate_quadratic_program(bitstring, \u001b[43mqubo\u001b[49m))\n\u001b[1;32m      5\u001b[0m results\n",
      "\u001b[0;31mNameError\u001b[0m: name 'qubo' is not defined"
     ]
    }
   ],
   "source": [
    "results = []\n",
    "for bitstring in probs:\n",
    "    results.append(evaluate_quadratic_program(bitstring, qubo))\n",
    "    \n",
    "results"
   ]
  },
  {
   "cell_type": "code",
   "execution_count": 358,
   "id": "9f4251e8-3782-47af-ba98-d31744243f65",
   "metadata": {},
   "outputs": [
    {
     "data": {
      "text/plain": [
       "[<Variable: x (binary)>, <Variable: y (binary)>, <Variable: z (binary)>]"
      ]
     },
     "execution_count": 358,
     "metadata": {},
     "output_type": "execute_result"
    }
   ],
   "source": [
    "qubo.variables"
   ]
  },
  {
   "cell_type": "code",
   "execution_count": null,
   "id": "b8079644-c852-4987-a1fe-fb1e3be425c5",
   "metadata": {},
   "outputs": [],
   "source": []
  }
 ],
 "metadata": {
  "kernelspec": {
   "display_name": "Python 3 (ipykernel)",
   "language": "python",
   "name": "python3"
  },
  "language_info": {
   "codemirror_mode": {
    "name": "ipython",
    "version": 3
   },
   "file_extension": ".py",
   "mimetype": "text/x-python",
   "name": "python",
   "nbconvert_exporter": "python",
   "pygments_lexer": "ipython3",
   "version": "3.10.12"
  }
 },
 "nbformat": 4,
 "nbformat_minor": 5
}
